{
 "cells": [
  {
   "cell_type": "code",
   "execution_count": 14,
   "metadata": {},
   "outputs": [
    {
     "name": "stdout",
     "output_type": "stream",
     "text": [
      "use 'Book1.xlsx' as the example\n",
      "'Book1.xlsx'\n"
     ]
    }
   ],
   "source": [
    "import pandas as pd\n",
    "import numpy as np\n",
    "import tia.bbg.datamgr as dm\n",
    "mgr=dm.BbgDataManager()\n",
    "\n",
    "#use 'Book1.xlsx' as the example\n",
    "print(\"use 'Book1.xlsx' as the example\")\n",
    "files=input()\n",
    "df = pd.read_excel(files)\n",
    "mgr.sid_result_mode = 'frame'\n",
    "\n",
    "c=0\n",
    "empty=[]\n",
    "for x in df['CUSIP']:\n",
    "    empty.append('/cusip/'+str(df.at[c,'CUSIP']))\n",
    "    c=c+1\n",
    "    next\n",
    "cats=['PX_LAST','PAR_AMT','CPN','CPN_FREQ','DAYS_TO_NEXT_COUPON','DAYS_TO_MTY']\n",
    "liss=[]\n",
    "for b in empty:\n",
    "    store=mgr[b]\n",
    "    first=store['PX_LAST','PAR_AMT','CPN','CPN_FREQ','DAYS_TO_NEXT_COUPON','DAYS_TO_MTY']\n",
    "    liss.append(first)\n",
    "g=2\n",
    "\n",
    "dfdf=liss[0]\n",
    "dfdf=liss[0].append(liss[1])\n",
    "for i in range(2,len(liss)):\n",
    "    dfdf=dfdf.append(liss[g])\n",
    "    g=g+1\n",
    "\n",
    "def Build_info(x):    \n",
    "    dfdf['COUPON_PAYMENT']=(dfdf['CPN']*dfdf['PAR_AMT'])/100\n",
    "    dfdf['DTM_DNC']=dfdf['DAYS_TO_MTY']-dfdf['DAYS_TO_NEXT_COUPON']\n",
    "    dfdf['YR_FREQ']=365/dfdf['CPN_FREQ']\n",
    "    dfdf['#_OF_CPN']=np.rint(dfdf['DTM_DNC']/dfdf['YR_FREQ'])\n",
    "    return;\n",
    "\n",
    "def Duration_calc(x):\n",
    "        \n",
    "    for index, row in dfdf.iterrows():\n",
    "        #other\n",
    "        ation=((row['DAYS_TO_NEXT_COUPON']*row['COUPON_PAYMENT'])+(((row['COUPON_PAYMENT']+row['PAR_AMT'])*row['DAYS_TO_MTY']))/row['PX_LAST'])\n",
    "    \n",
    "        #final\n",
    "        dur=(((row['COUPON_PAYMENT']+row['PAR_AMT'])*row['DAYS_TO_MTY'])/row['PX_LAST'])\n",
    "        if row['DTM_DNC']>row['YR_FREQ']:\n",
    "            #normal\n",
    "            store_val=0\n",
    "            for x in range(row['#_OF_CPN'].astype(np.int64)):\n",
    "                sols=0\n",
    "                sols=row['COUPON_PAYMENT']*(row['DAYS_TO_NEXT_COUPON']+(row['YR_FREQ']*x))\n",
    "                store_val=store_val+sols\n",
    "            dfdf.at[index,'DURATION']=\"{:10.0f}\".format(ation+store_val)\n",
    "        if row['DTM_DNC']<=row['YR_FREQ']:\n",
    "            if row['DAYS_TO_NEXT_COUPON']==row['DAYS_TO_MTY']:\n",
    "                #final\n",
    "                dfdf.at[index,'DURATION']=\"{:10.0f}\".format(dur)\n",
    "            if row['DAYS_TO_MTY']>row['YR_FREQ']:\n",
    "                #other\n",
    "                dfdf.at[index,'DURATION']=\"{:10.0f}\".format(ation)\n",
    "    return;       \n",
    "\n"
   ]
  }
 ],
 "metadata": {
  "kernelspec": {
   "display_name": "Python 2",
   "language": "python",
   "name": "python2"
  },
  "language_info": {
   "codemirror_mode": {
    "name": "ipython",
    "version": 2
   },
   "file_extension": ".py",
   "mimetype": "text/x-python",
   "name": "python",
   "nbconvert_exporter": "python",
   "pygments_lexer": "ipython2",
   "version": "2.7.16"
  }
 },
 "nbformat": 4,
 "nbformat_minor": 1
}
